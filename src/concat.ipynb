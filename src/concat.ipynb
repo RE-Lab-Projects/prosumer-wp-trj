{
 "cells": [
  {
   "cell_type": "code",
   "execution_count": 1,
   "metadata": {},
   "outputs": [],
   "source": [
    "import pandas as pd\n",
    "from hplib import hplib as hpl"
   ]
  },
  {
   "cell_type": "code",
   "execution_count": 92,
   "metadata": {},
   "outputs": [],
   "source": [
    "hpsnogeneric=hpl.load_database().head(-6)\n",
    "weather=pd.read_csv('simulation_data/TRJ-Tabelle.csv').head(15)"
   ]
  },
  {
   "cell_type": "code",
   "execution_count": 137,
   "metadata": {},
   "outputs": [],
   "source": [
    "ground=hpl.HeatingSystem()\n",
    "Normheizlast=[]\n",
    "Vorlauftemperatur=[]\n",
    "Standort=[]\n",
    "Model=[]\n",
    "COP=[]\n",
    "Manufacturer=[]\n",
    "Normaußentemperatur=[]\n",
    "Group=[]\n",
    "for model in hpsnogeneric['Model']:\n",
    "    hp=hpl.HeatPump(hpl.get_parameters(model))\n",
    "    manufacturer=hpl.get_parameters(model).Manufacturer.values[0]\n",
    "    if hp.group_id==1 or hp.group_id==4:\n",
    "        i=0\n",
    "        for normaußentemperatur in weather['T_min_ref']:\n",
    "            i+=1\n",
    "            for vorlauftemperatur in range(25,71,1):\n",
    "                Standort.append(i)\n",
    "                Model.append(model)\n",
    "                Group.append(hp.group_id)\n",
    "                Normaußentemperatur.append(normaußentemperatur)\n",
    "                Manufacturer.append(manufacturer)\n",
    "                sim=hp.simulate(normaußentemperatur, vorlauftemperatur,normaußentemperatur)\n",
    "                if sim['COP']==1:\n",
    "                    Normheizlast.append(0)\n",
    "                    COP.append(sim['COP'])\n",
    "                else:\n",
    "                    Normheizlast.append(sim['P_th'])\n",
    "                    COP.append(sim['COP'])\n",
    "                Vorlauftemperatur.append(vorlauftemperatur)\n",
    "    elif hp.group_id==2 or hp.group_id==5:\n",
    "        i=0\n",
    "        for normaußentemperatur in weather['T_min_ref']:\n",
    "            i+=1\n",
    "            for vorlauftemperatur in range(25,70,1):\n",
    "                Standort.append(i)\n",
    "                Model.append(model)\n",
    "                Group.append(hp.group_id)\n",
    "                Normaußentemperatur.append(normaußentemperatur)\n",
    "                Manufacturer.append(manufacturer)\n",
    "                sim=hp.simulate(ground.calc_brine_temp(normaußentemperatur), vorlauftemperatur,normaußentemperatur)\n",
    "                if sim['COP']==1:\n",
    "                    Normheizlast.append(0)\n",
    "                    COP.append(sim['COP'])\n",
    "                else:\n",
    "                    Normheizlast.append(sim['P_th'])\n",
    "                    COP.append(sim['COP'])\n",
    "                Vorlauftemperatur.append(vorlauftemperatur)\n",
    "df=pd.DataFrame()\n",
    "df['Standort']=Standort\n",
    "df['Manufacturer']=Manufacturer\n",
    "df['Model']=Model\n",
    "df['Gruppe']=Group\n",
    "df['Normaußentemperatur']=Normaußentemperatur\n",
    "df['Vorlauftemperatur']=Vorlauftemperatur\n",
    "df['Normheizlast']=Normheizlast\n",
    "df['COP']=COP\n",
    "df.loc[(df['Gruppe']==1)|(df['Gruppe']==4),'WP-Kategorie']='Luft/Wasser'\n",
    "df.loc[(df['Gruppe']==2)|(df['Gruppe']==5),'WP-Kategorie']='Sole/Wasser'\n",
    "df[['Standort', 'Manufacturer', 'Model','WP-Kategorie', 'Normaußentemperatur',\n",
    "       'Vorlauftemperatur', 'Normheizlast', 'COP']]\n",
    "df.to_csv('simulation_data/hp_Normheizlast.csv',index=False)"
   ]
  },
  {
   "cell_type": "code",
   "execution_count": null,
   "metadata": {},
   "outputs": [],
   "source": []
  }
 ],
 "metadata": {
  "interpreter": {
   "hash": "e520d04d4632711be843bf0db2d822013395c816ee5fe0ee7f47f8d20bb65b44"
  },
  "kernelspec": {
   "display_name": "Python 3.9.12 ('webtool')",
   "language": "python",
   "name": "python3"
  },
  "language_info": {
   "codemirror_mode": {
    "name": "ipython",
    "version": 3
   },
   "file_extension": ".py",
   "mimetype": "text/x-python",
   "name": "python",
   "nbconvert_exporter": "python",
   "pygments_lexer": "ipython3",
   "version": "3.9.12"
  },
  "orig_nbformat": 4
 },
 "nbformat": 4,
 "nbformat_minor": 2
}
